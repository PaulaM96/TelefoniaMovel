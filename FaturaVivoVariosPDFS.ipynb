{
 "cells": [
  {
   "cell_type": "markdown",
   "id": "4f4cfcc7",
   "metadata": {},
   "source": [
    "# Projeto de Telefonia Móvel\n",
    "### Este projeto tem por objetivo extrair os dados da fatura detalhada da operadora e transformar os dados em informações importantes e insights sobre a conta"
   ]
  },
  {
   "cell_type": "markdown",
   "id": "6a553925",
   "metadata": {},
   "source": [
    "##### Importando as bibliotecas necessárias"
   ]
  },
  {
   "cell_type": "code",
   "execution_count": 3,
   "id": "7bd36aca",
   "metadata": {
    "scrolled": true
   },
   "outputs": [
    {
     "name": "stdout",
     "output_type": "stream",
     "text": [
      "Defaulting to user installation because normal site-packages is not writeable\n",
      "Requirement already satisfied: pdfplumber in /home/paula/.local/lib/python3.10/site-packages (0.8.0)\n",
      "Requirement already satisfied: Pillow>=9.1 in /home/paula/.local/lib/python3.10/site-packages (from pdfplumber) (9.4.0)\n",
      "Requirement already satisfied: Wand>=0.6.10 in /home/paula/.local/lib/python3.10/site-packages (from pdfplumber) (0.6.11)\n",
      "Requirement already satisfied: pdfminer.six==20221105 in /home/paula/.local/lib/python3.10/site-packages (from pdfplumber) (20221105)\n",
      "Requirement already satisfied: cryptography>=36.0.0 in /home/paula/.local/lib/python3.10/site-packages (from pdfminer.six==20221105->pdfplumber) (39.0.1)\n",
      "Requirement already satisfied: charset-normalizer>=2.0.0 in /home/paula/.local/lib/python3.10/site-packages (from pdfminer.six==20221105->pdfplumber) (3.0.1)\n",
      "Requirement already satisfied: cffi>=1.12 in /home/paula/.local/lib/python3.10/site-packages (from cryptography>=36.0.0->pdfminer.six==20221105->pdfplumber) (1.15.1)\n",
      "Requirement already satisfied: pycparser in /home/paula/.local/lib/python3.10/site-packages (from cffi>=1.12->cryptography>=36.0.0->pdfminer.six==20221105->pdfplumber) (2.21)\n",
      "Defaulting to user installation because normal site-packages is not writeable\n",
      "Requirement already satisfied: pandas in /home/paula/.local/lib/python3.10/site-packages (1.5.3)\n",
      "Requirement already satisfied: pytz>=2020.1 in /usr/lib/python3/dist-packages (from pandas) (2022.1)\n",
      "Requirement already satisfied: numpy>=1.21.0 in /home/paula/.local/lib/python3.10/site-packages (from pandas) (1.24.2)\n",
      "Requirement already satisfied: python-dateutil>=2.8.1 in /home/paula/.local/lib/python3.10/site-packages (from pandas) (2.8.2)\n",
      "Requirement already satisfied: six>=1.5 in /usr/lib/python3/dist-packages (from python-dateutil>=2.8.1->pandas) (1.16.0)\n",
      "Defaulting to user installation because normal site-packages is not writeable\n",
      "Requirement already satisfied: numpy in /home/paula/.local/lib/python3.10/site-packages (1.24.2)\n",
      "Defaulting to user installation because normal site-packages is not writeable\n",
      "Requirement already satisfied: openpyxl in /home/paula/.local/lib/python3.10/site-packages (3.1.1)\n",
      "Requirement already satisfied: et-xmlfile in /home/paula/.local/lib/python3.10/site-packages (from openpyxl) (1.1.0)\n",
      "Defaulting to user installation because normal site-packages is not writeable\n",
      "Requirement already satisfied: pyodbc in /home/paula/.local/lib/python3.10/site-packages (4.0.35)\n",
      "Defaulting to user installation because normal site-packages is not writeable\n",
      "Requirement already satisfied: PyPDF2 in /home/paula/.local/lib/python3.10/site-packages (3.0.1)\n"
     ]
    }
   ],
   "source": [
    "!pip install pdfplumber\n",
    "!pip install pandas\n",
    "!pip install numpy\n",
    "!pip install openpyxl\n",
    "!pip install pyodbc\n",
    "#pip install PyPDF2\n",
    "#pip install pyodbc\n",
    "!pip install PyPDF2\n",
    "import pdfplumber\n",
    "import re\n",
    "import pandas as pd\n",
    "from pathlib import Path\n",
    "import numpy as np\n",
    "import pyodbc"
   ]
  },
  {
   "cell_type": "code",
   "execution_count": 5,
   "id": "13351f1c",
   "metadata": {},
   "outputs": [
    {
     "name": "stdout",
     "output_type": "stream",
     "text": [
      "VIVO_p1-50.pdf written to /home/paula/Downloads/VIVO_splitted/\n",
      "1 pdf files written to /home/paula/Downloads/VIVO_splitted/\n"
     ]
    }
   ],
   "source": [
    "import os\n",
    "from PyPDF2 import PdfReader, PdfWriter as PdfFileWriter\n",
    "\n",
    "def split_pdf(in_pdf, step=50):\n",
    "    \"\"\"Splits a given pdf into seperate pdfs and saves \n",
    "    those to a supfolder of the parent pdf's folder, called\n",
    "    splitted_pdf.\n",
    "\n",
    "    Arguments:\n",
    "        in_pdf: [str] Absolute path (and filename) of the\n",
    "                input pdf or just the filename, if the file\n",
    "                is in the current directory.\n",
    "        step:   [int] Desired number of pages in each of the\n",
    "                output pdfs.\n",
    "    Returns:\n",
    "        dunno yet\n",
    "    \"\"\"\n",
    "    #TODO: Add choice for output dir\n",
    "    #TODO: Add logging instead of prints\n",
    "    #TODO: Refactor\n",
    "    try:    \n",
    "        with open(in_pdf, 'rb') as in_file:\n",
    "            input_pdf = PdfReader(in_file)\n",
    "            num_pages = len(input_pdf.pages)\n",
    "            input_dir, filename = os.path.split(in_pdf)\n",
    "            filename = os.path.splitext(filename)[0]\n",
    "            output_dir = input_dir + \"/\" + filename + \"_splitted/\"\n",
    "            os.mkdir(output_dir)\n",
    "            intervals = range(0, num_pages, step)\n",
    "            intervals = dict(enumerate(intervals, 1))\n",
    "            naming = f'{filename}_p'\n",
    "            count = 0\n",
    "            for key, val in intervals.items():\n",
    "                output_pdf = PdfFileWriter()\n",
    "                if key == len(intervals):\n",
    "                    for i in range(val, num_pages):\n",
    "                        output_pdf.add_page(input_pdf.pages[i])\n",
    "                    nums = f'{val + 1}' if step == 1 else f'{val + 1}-{val + step}'\n",
    "                    with open(f'{output_dir}{naming}{nums}.pdf', 'wb') as outfile:\n",
    "                        output_pdf.write(outfile)\n",
    "                    print(f'{naming}{nums}.pdf written to {output_dir}')\n",
    "                    count += 1\n",
    "                else:\n",
    "                    for i in range(val, intervals[key + 1]):\n",
    "                        output_pdf.add_page(input_pdf.pages[i])\n",
    "                    nums = f'{val + 1}' if step == 1 else f'{val + 1}-{val + step}'\n",
    "                    with open(f'{output_dir}{naming}{nums}.pdf', 'wb') as outfile:\n",
    "                        output_pdf.write(outfile)\n",
    "                    print(f'{naming}{nums}.pdf written to {output_dir}')\n",
    "                    count += 1\n",
    "    except FileNotFoundError as err:\n",
    "        print('Cannot find the specified file. Check your input:')\n",
    "    print(f'{count} pdf files written to {output_dir}')\n",
    "pdf_url='/home/paula/Downloads/VIVO.pdf'    \n",
    "split_pdf(pdf_url)\n",
    "\n",
    "# entrada\n",
    "pasta = '/home/paula/Downloads/VIVO_splitted/'  # '.' = diretorio atual, '..' => anterior\n",
    "extensoes = ['pdf'] # deixe em branco para todos\n",
    "\n"
   ]
  },
  {
   "cell_type": "code",
   "execution_count": 6,
   "id": "a668c169",
   "metadata": {},
   "outputs": [
    {
     "name": "stdout",
     "output_type": "stream",
     "text": [
      "Entrei\n",
      "/home/paula/Downloads/VIVO_splitted/VIVO_p1-50.pdf\n"
     ]
    }
   ],
   "source": [
    "# lê arquivos na pasta\n",
    "arquivos = os.listdir(pasta)\n",
    "arquivos.sort()\n",
    "text=''\n",
    "# para cada arquivo na pasta\n",
    "for i in arquivos:\n",
    "    print('Entrei')\n",
    "# se vazio, exibir todos\n",
    "    pdf_url='/home/paula/Downloads/VIVO_splitted/'f'{i}'\n",
    "    print(pdf_url)\n",
    "    with pdfplumber.open(pdf_url) as pdf:\n",
    "        pages = pdf.pages        \n",
    "        for i,pg in enumerate(pages):\n",
    "            text+= pages[i].extract_text()\n",
    "with Path('/home/paula/Downloads/exemplo.txt').open(mode='w') as output_file:\n",
    "    output_file.write(text)  "
   ]
  },
  {
   "cell_type": "code",
   "execution_count": 7,
   "id": "f062b571",
   "metadata": {
    "scrolled": true
   },
   "outputs": [],
   "source": [
    "inicio_fatura='DETALHAMENTO TOTAL DA CONTA'\n",
    "fim_fatura='VEJA O USO DETALHADO DO VIVO 13-99678-3056 - PRUMO ENGENHARIA LTDA'\n",
    "#fim_fatura='DESCONTOS E PROMOÇÕES'\n",
    "busca= r'^(\\d{2}-\\d{5}-\\d{4})\\s+(.*?)\\s+(\\d+,\\d{2})'\n",
    "buscaNet=r'^\\d{2}-\\d{5}-\\d{4} \\d+MB \\d+KB$'\n",
    "#padrao = \n",
    "\n",
    "#correspondencia = re.match(padrao, texto)\n",
    "dadosFatura=''\n",
    "dadosGerais=''\n",
    "texto=''\n",
    "parcelamento=''\n",
    "dadosConsumo=''\n",
    "    #Para sair do laço encontro o final fatura                \n",
    "with open('/home/paula/Downloads/exemplo.txt', 'r', encoding = 'utf-8') as arquivo:\n",
    "    \n",
    "        for linha in arquivo:\n",
    "            if fim_fatura in linha:\n",
    "                break\n",
    "            else:\n",
    "                    if not(\"Utilizados\") in linha:\n",
    "                        if(re.search(r'^(\\d{2}-\\d{5}-\\d{4})\\s+(.*?)\\s+(\\d+,\\d{2})',linha))and not 'PARCELAMENTO' in linha:\n",
    "                            if not (re.search(r'\\s+\\d+KB',linha)):\n",
    "                                texto=linha\n",
    "                                strug=' TE'\n",
    "                                strug1='MAS'\n",
    "                                strug2='BOX PJ'\n",
    "                                strug3='BASE'\n",
    "                                if strug3 in linha: \n",
    "                                        linha= linha.replace(' PJ ', ' ')\n",
    "                                if strug2 in linha: \n",
    "                                        linha= linha.replace(' PJ ', ' ')\n",
    "                                if strug in linha:\n",
    "                                        linha= linha.replace(' TE ', ' ')\n",
    "                                if strug1 in linha:\n",
    "                                        linha= linha.replace(' MAS ', ' ')\n",
    "                                dadosFatura+=linha\n",
    "\n",
    "                        if(re.search('^\\d{2}-\\d{5}-\\d{4} \\d+MB \\d+KB \\d{2}-\\d{5}-\\d{4} \\d+MB \\d+KB$',linha)):\n",
    "                            #print(linha)\n",
    "                            dadosConsumo+=linha\n",
    "                        if(re.search(r'\\s+\\d+KB',linha)):\n",
    "                            dadosConsumo+=linha\n",
    "                        if(re.search('^Parcelamento de Aparelho / Acessório',linha)):\n",
    "                            #print(linha)\n",
    "                            parcelamento+=linha\n",
    "                    \n",
    "                  \n",
    "        #print(dadosFatura)\n",
    "        with Path('/home/paula/Downloads/dadosGeraisPlanos.txt').open(mode='w') as output_file:\n",
    "            output_file.write(dadosGerais)       \n",
    "        with Path('/home/paula/Downloads/dadosFatura.txt').open(mode='w') as output_file:\n",
    "            output_file.write(dadosFatura)\n",
    "        with Path('/home/paula/Downloads/dadosConsumos.txt').open(mode='w') as output_file:\n",
    "            output_file.write(dadosConsumo)\n",
    "        with Path('/home/paula/Downloads/parcelamentos.txt').open(mode='w') as output_file:\n",
    "            output_file.write(parcelamento)\n",
    "            "
   ]
  },
  {
   "cell_type": "markdown",
   "id": "ae96391a",
   "metadata": {},
   "source": [
    "#### Como a conta detalhada possui muitas páginas, para este projeto foi necessário salvar um arquivo apenas com os dados de cada conta"
   ]
  },
  {
   "cell_type": "markdown",
   "id": "29cf6de6",
   "metadata": {},
   "source": [
    "#### Os dados foram importados do pdf com a biblioteca pdflumber, depois transformados em txt com o auxílio do Path\n"
   ]
  },
  {
   "cell_type": "markdown",
   "id": "f03c9ba9",
   "metadata": {},
   "source": [
    "#### Depois de extraídos, os dados precisavam ser padronizados. Com o auxílio da biblioteca RE, foi criado uma expressão regular para localizar os textos que continham formatos diferentes, logo depois foram removidas informações irrelevantes do plano para este estudo através do método replace."
   ]
  },
  {
   "cell_type": "markdown",
   "id": "fc3e5a38",
   "metadata": {},
   "source": [
    "#### Os dados depois de tratados foram armazenados em arquivos diferentes para fazer a composição de dois dataframes bases relacionados à fatura."
   ]
  },
  {
   "cell_type": "code",
   "execution_count": 8,
   "id": "135ee3d0",
   "metadata": {},
   "outputs": [
    {
     "name": "stdout",
     "output_type": "stream",
     "text": [
      "            Número                 Plano   Valor\n",
      "0    13-99678-3056    PLANO INTERNET BOX  186,76\n",
      "1    24-98124-6525  SMART EMPRESAS 0.2GB   35,32\n",
      "2    24-98125-2580  SMART EMPRESAS 0.2GB   35,32\n",
      "3    24-98140-6666  SMART EMPRESAS 0.2GB   35,32\n",
      "4    24-98140-6667  SMART EMPRESAS 0.2GB   35,32\n",
      "..             ...                   ...     ...\n",
      "793  94-99126-9996    SMART EMPRESAS 8GB   70,64\n",
      "794  94-99128-3722    SMART EMPRESAS 2GB   36,44\n",
      "795  94-99158-7826    SMART EMPRESAS 8GB   70,64\n",
      "796  94-99160-0452    SMART EMPRESAS 2GB   36,44\n",
      "797  94-99239-5650    SMART EMPRESAS 2GB   36,44\n",
      "\n",
      "[798 rows x 3 columns]\n"
     ]
    }
   ],
   "source": [
    "\n",
    "# Ler o arquivo de texto\n",
    "with open('/home/paula/Downloads/dadosFatura.txt', 'r') as file:\n",
    "    lines = file.readlines()\n",
    "\n",
    "# Inicializar listas para os dados\n",
    "numeros = []\n",
    "planos = []\n",
    "valores = []\n",
    "\n",
    "# Processar as linhas do arquivo\n",
    "for line in lines:\n",
    "    # Dividir a linha em palavras\n",
    "    words = line.split()\n",
    "    \n",
    "    # Verificar se a linha possui dados suficientes\n",
    "    if len(words) >= 10:\n",
    "        numero = words[0]\n",
    "        plano = ' '.join(words[1:4])\n",
    "        valor = words[4]\n",
    "        numero1 = words[5]\n",
    "        plano1 = ' '.join(words[6:9])\n",
    "        valor1 = words[9]\n",
    "        numeros.append(numero)\n",
    "        planos.append(plano)\n",
    "        valores.append(valor)\n",
    "        \n",
    "        \n",
    "        numeros.append(numero1)\n",
    "        planos.append(plano1)\n",
    "        valores.append(valor1)\n",
    "\n",
    "# Criar um DataFrame com os dados processados\n",
    "dfFatura = pd.DataFrame({'Número': numeros, 'Plano': planos, 'Valor': valores})\n",
    "\n",
    "# Exibir o DataFrame resultante\n",
    "print(dfFatura)"
   ]
  },
  {
   "cell_type": "code",
   "execution_count": 9,
   "id": "e7b66068",
   "metadata": {},
   "outputs": [
    {
     "data": {
      "text/html": [
       "<div>\n",
       "<style scoped>\n",
       "    .dataframe tbody tr th:only-of-type {\n",
       "        vertical-align: middle;\n",
       "    }\n",
       "\n",
       "    .dataframe tbody tr th {\n",
       "        vertical-align: top;\n",
       "    }\n",
       "\n",
       "    .dataframe thead th {\n",
       "        text-align: right;\n",
       "    }\n",
       "</style>\n",
       "<table border=\"1\" class=\"dataframe\">\n",
       "  <thead>\n",
       "    <tr style=\"text-align: right;\">\n",
       "      <th></th>\n",
       "      <th>Número</th>\n",
       "      <th>Plano</th>\n",
       "      <th>Valor</th>\n",
       "    </tr>\n",
       "  </thead>\n",
       "  <tbody>\n",
       "    <tr>\n",
       "      <th>641</th>\n",
       "      <td>37-99955-6810</td>\n",
       "      <td>PLANO BASE INTERNET</td>\n",
       "      <td>84,99</td>\n",
       "    </tr>\n",
       "  </tbody>\n",
       "</table>\n",
       "</div>"
      ],
      "text/plain": [
       "            Número                Plano  Valor\n",
       "641  37-99955-6810  PLANO BASE INTERNET  84,99"
      ]
     },
     "execution_count": 9,
     "metadata": {},
     "output_type": "execute_result"
    }
   ],
   "source": [
    "#dfFatura=dfFatura.drop_duplicates()\n",
    "\n",
    "dfFatura.loc[dfFatura['Número']=='37-99955-6810']"
   ]
  },
  {
   "cell_type": "code",
   "execution_count": 10,
   "id": "6c554fa5",
   "metadata": {},
   "outputs": [
    {
     "name": "stderr",
     "output_type": "stream",
     "text": [
      "/tmp/ipykernel_4378/1764421724.py:1: ParserWarning: Falling back to the 'python' engine because the 'c' engine does not support regex separators (separators > 1 char and different from '\\s+' are interpreted as regex); you can avoid this warning by specifying engine='python'.\n",
      "  dfPlan = pd.read_csv('/home/paula/Downloads/dadosGeraisPlanos.txt', sep=\"\\r\\n\", header=None, names=[\"dados\"]) #names=[\"number\", \"tipo\", \"c\"]\n"
     ]
    },
    {
     "data": {
      "text/html": [
       "<div>\n",
       "<style scoped>\n",
       "    .dataframe tbody tr th:only-of-type {\n",
       "        vertical-align: middle;\n",
       "    }\n",
       "\n",
       "    .dataframe tbody tr th {\n",
       "        vertical-align: top;\n",
       "    }\n",
       "\n",
       "    .dataframe thead th {\n",
       "        text-align: right;\n",
       "    }\n",
       "</style>\n",
       "<table border=\"1\" class=\"dataframe\">\n",
       "  <thead>\n",
       "    <tr style=\"text-align: right;\">\n",
       "      <th></th>\n",
       "      <th>Descrição</th>\n",
       "      <th>Internet</th>\n",
       "      <th>Quantidade</th>\n",
       "    </tr>\n",
       "  </thead>\n",
       "  <tbody>\n",
       "  </tbody>\n",
       "</table>\n",
       "</div>"
      ],
      "text/plain": [
       "Empty DataFrame\n",
       "Columns: [Descrição, Internet, Quantidade]\n",
       "Index: []"
      ]
     },
     "execution_count": 10,
     "metadata": {},
     "output_type": "execute_result"
    }
   ],
   "source": [
    "dfPlan = pd.read_csv('/home/paula/Downloads/dadosGeraisPlanos.txt', sep=\"\\r\\n\", header=None, names=[\"dados\"]) #names=[\"number\", \"tipo\", \"c\"]\n",
    "divisao=dfPlan[\"dados\"].str.split(\" \") \n",
    "desc=divisao.str.get(0)\n",
    "desc0=divisao.str.get(1)\n",
    "internet=divisao.str.get(2)\n",
    "quantidade=divisao.str.get(3)\n",
    "dfPlan['desc1']=desc\n",
    "dfPlan['desc2']=desc0\n",
    "dfPlan['Descrição'] = dfPlan['desc1'] + \" \" + dfPlan['desc2']\n",
    "dfPlan['Internet']=internet\n",
    "dfPlan['Quantidade']=quantidade\n",
    "dfPlan['Quantidade']=dfPlan['Quantidade'].astype('int32')\n",
    "dfPlan.drop(['dados'],axis=1,inplace=True)\n",
    "dfPlan.drop(['desc1'],axis=1,inplace=True)\n",
    "dfPlan.drop(['desc2'],axis=1,inplace=True)\n",
    "dfPlan.head()\n"
   ]
  },
  {
   "cell_type": "code",
   "execution_count": 11,
   "id": "53db0b2f",
   "metadata": {},
   "outputs": [
    {
     "name": "stdout",
     "output_type": "stream",
     "text": [
      "0\n"
     ]
    }
   ],
   "source": [
    "soma = dfPlan['Quantidade'].sum()\n",
    "print(soma)"
   ]
  },
  {
   "cell_type": "markdown",
   "id": "4ad94a8c",
   "metadata": {},
   "source": [
    "#### Agora, iremos trabalhar com o consumo de internet móvel, retirando de outra parte do pdf as informações"
   ]
  },
  {
   "cell_type": "code",
   "execution_count": 12,
   "id": "6fbc42b2",
   "metadata": {},
   "outputs": [
    {
     "name": "stderr",
     "output_type": "stream",
     "text": [
      "/tmp/ipykernel_4378/2045110599.py:1: ParserWarning: Falling back to the 'python' engine because the 'c' engine does not support regex separators (separators > 1 char and different from '\\s+' are interpreted as regex); you can avoid this warning by specifying engine='python'.\n",
      "  dfNet1 = pd.read_csv('/home/paula/Downloads/dadosConsumos.txt', sep=\"\\r\\n\", header=None, names=[\"coluna\"])\n"
     ]
    },
    {
     "data": {
      "text/html": [
       "<div>\n",
       "<style scoped>\n",
       "    .dataframe tbody tr th:only-of-type {\n",
       "        vertical-align: middle;\n",
       "    }\n",
       "\n",
       "    .dataframe tbody tr th {\n",
       "        vertical-align: top;\n",
       "    }\n",
       "\n",
       "    .dataframe thead th {\n",
       "        text-align: right;\n",
       "    }\n",
       "</style>\n",
       "<table border=\"1\" class=\"dataframe\">\n",
       "  <thead>\n",
       "    <tr style=\"text-align: right;\">\n",
       "      <th></th>\n",
       "      <th>coluna</th>\n",
       "    </tr>\n",
       "  </thead>\n",
       "  <tbody>\n",
       "    <tr>\n",
       "      <th>0</th>\n",
       "      <td>24-98124-6525 7708MB 24KB 24-98125-2580 66MB 3...</td>\n",
       "    </tr>\n",
       "    <tr>\n",
       "      <th>1</th>\n",
       "      <td>24-98124-6525 7708MB 24KB 24-98125-2580 66MB 3...</td>\n",
       "    </tr>\n",
       "    <tr>\n",
       "      <th>2</th>\n",
       "      <td>24-98140-6666 138MB 396KB 24-98140-6667 429MB ...</td>\n",
       "    </tr>\n",
       "    <tr>\n",
       "      <th>3</th>\n",
       "      <td>24-98140-6666 138MB 396KB 24-98140-6667 429MB ...</td>\n",
       "    </tr>\n",
       "    <tr>\n",
       "      <th>4</th>\n",
       "      <td>24-98140-6668 75MB 783KB 24-98140-6669 1619MB ...</td>\n",
       "    </tr>\n",
       "    <tr>\n",
       "      <th>5</th>\n",
       "      <td>24-98140-6668 75MB 783KB 24-98140-6669 1619MB ...</td>\n",
       "    </tr>\n",
       "    <tr>\n",
       "      <th>6</th>\n",
       "      <td>24-98140-6766 32843MB 772KB 24-98140-6776 3542...</td>\n",
       "    </tr>\n",
       "    <tr>\n",
       "      <th>7</th>\n",
       "      <td>24-98140-6766 32843MB 772KB 24-98140-6776 3542...</td>\n",
       "    </tr>\n",
       "    <tr>\n",
       "      <th>8</th>\n",
       "      <td>24-98140-6800 917MB 877KB 24-98140-6886 548MB ...</td>\n",
       "    </tr>\n",
       "    <tr>\n",
       "      <th>9</th>\n",
       "      <td>24-98140-6800 917MB 877KB 24-98140-6886 548MB ...</td>\n",
       "    </tr>\n",
       "    <tr>\n",
       "      <th>10</th>\n",
       "      <td>24-98140-6968 0MB 811KB 24-99224-2342 12MB 449KB</td>\n",
       "    </tr>\n",
       "    <tr>\n",
       "      <th>11</th>\n",
       "      <td>24-98140-6968 0MB 811KB 24-99224-2342 12MB 449KB</td>\n",
       "    </tr>\n",
       "    <tr>\n",
       "      <th>12</th>\n",
       "      <td>24-99233-9928 1321MB 789KB 24-99237-3826 4510M...</td>\n",
       "    </tr>\n",
       "    <tr>\n",
       "      <th>13</th>\n",
       "      <td>24-99233-9928 1321MB 789KB 24-99237-3826 4510M...</td>\n",
       "    </tr>\n",
       "    <tr>\n",
       "      <th>14</th>\n",
       "      <td>24-99254-6297 85MB 326KB 24-99255-2904 1416MB ...</td>\n",
       "    </tr>\n",
       "    <tr>\n",
       "      <th>15</th>\n",
       "      <td>24-99254-6297 85MB 326KB 24-99255-2904 1416MB ...</td>\n",
       "    </tr>\n",
       "    <tr>\n",
       "      <th>16</th>\n",
       "      <td>24-99255-5968 494MB 207KB 24-99258-2363 2183MB...</td>\n",
       "    </tr>\n",
       "    <tr>\n",
       "      <th>17</th>\n",
       "      <td>24-99255-5968 494MB 207KB 24-99258-2363 2183MB...</td>\n",
       "    </tr>\n",
       "    <tr>\n",
       "      <th>18</th>\n",
       "      <td>24-99292-0783 6382MB 595KB 31-99982-7828 451MB...</td>\n",
       "    </tr>\n",
       "    <tr>\n",
       "      <th>19</th>\n",
       "      <td>24-99292-0783 6382MB 595KB 31-99982-7828 451MB...</td>\n",
       "    </tr>\n",
       "  </tbody>\n",
       "</table>\n",
       "</div>"
      ],
      "text/plain": [
       "                                               coluna\n",
       "0   24-98124-6525 7708MB 24KB 24-98125-2580 66MB 3...\n",
       "1   24-98124-6525 7708MB 24KB 24-98125-2580 66MB 3...\n",
       "2   24-98140-6666 138MB 396KB 24-98140-6667 429MB ...\n",
       "3   24-98140-6666 138MB 396KB 24-98140-6667 429MB ...\n",
       "4   24-98140-6668 75MB 783KB 24-98140-6669 1619MB ...\n",
       "5   24-98140-6668 75MB 783KB 24-98140-6669 1619MB ...\n",
       "6   24-98140-6766 32843MB 772KB 24-98140-6776 3542...\n",
       "7   24-98140-6766 32843MB 772KB 24-98140-6776 3542...\n",
       "8   24-98140-6800 917MB 877KB 24-98140-6886 548MB ...\n",
       "9   24-98140-6800 917MB 877KB 24-98140-6886 548MB ...\n",
       "10   24-98140-6968 0MB 811KB 24-99224-2342 12MB 449KB\n",
       "11   24-98140-6968 0MB 811KB 24-99224-2342 12MB 449KB\n",
       "12  24-99233-9928 1321MB 789KB 24-99237-3826 4510M...\n",
       "13  24-99233-9928 1321MB 789KB 24-99237-3826 4510M...\n",
       "14  24-99254-6297 85MB 326KB 24-99255-2904 1416MB ...\n",
       "15  24-99254-6297 85MB 326KB 24-99255-2904 1416MB ...\n",
       "16  24-99255-5968 494MB 207KB 24-99258-2363 2183MB...\n",
       "17  24-99255-5968 494MB 207KB 24-99258-2363 2183MB...\n",
       "18  24-99292-0783 6382MB 595KB 31-99982-7828 451MB...\n",
       "19  24-99292-0783 6382MB 595KB 31-99982-7828 451MB..."
      ]
     },
     "execution_count": 12,
     "metadata": {},
     "output_type": "execute_result"
    }
   ],
   "source": [
    "dfNet1 = pd.read_csv('/home/paula/Downloads/dadosConsumos.txt', sep=\"\\r\\n\", header=None, names=[\"coluna\"])\n",
    "\n",
    "dfNet2=dfNet1.copy()             \n",
    "divisao=dfNet1[\"coluna\"].str.split(\" \")  \n",
    "dfNet2.head(20)"
   ]
  },
  {
   "cell_type": "code",
   "execution_count": 13,
   "id": "24ab1baa",
   "metadata": {},
   "outputs": [
    {
     "data": {
      "text/html": [
       "<div>\n",
       "<style scoped>\n",
       "    .dataframe tbody tr th:only-of-type {\n",
       "        vertical-align: middle;\n",
       "    }\n",
       "\n",
       "    .dataframe tbody tr th {\n",
       "        vertical-align: top;\n",
       "    }\n",
       "\n",
       "    .dataframe thead th {\n",
       "        text-align: right;\n",
       "    }\n",
       "</style>\n",
       "<table border=\"1\" class=\"dataframe\">\n",
       "  <thead>\n",
       "    <tr style=\"text-align: right;\">\n",
       "      <th></th>\n",
       "      <th>coluna</th>\n",
       "      <th>Numero</th>\n",
       "      <th>ConsumoMB</th>\n",
       "      <th>ConsumoKB</th>\n",
       "      <th>ConsumoGB</th>\n",
       "    </tr>\n",
       "  </thead>\n",
       "  <tbody>\n",
       "    <tr>\n",
       "      <th>0</th>\n",
       "      <td>24-98124-6525 7708MB 24KB 24-98125-2580 66MB 3...</td>\n",
       "      <td>24-98124-6525</td>\n",
       "      <td>7708.0</td>\n",
       "      <td>24.0</td>\n",
       "      <td>7.71</td>\n",
       "    </tr>\n",
       "    <tr>\n",
       "      <th>1</th>\n",
       "      <td>24-98124-6525 7708MB 24KB 24-98125-2580 66MB 3...</td>\n",
       "      <td>24-98124-6525</td>\n",
       "      <td>7708.0</td>\n",
       "      <td>24.0</td>\n",
       "      <td>7.71</td>\n",
       "    </tr>\n",
       "    <tr>\n",
       "      <th>2</th>\n",
       "      <td>24-98140-6666 138MB 396KB 24-98140-6667 429MB ...</td>\n",
       "      <td>24-98140-6666</td>\n",
       "      <td>138.0</td>\n",
       "      <td>396.0</td>\n",
       "      <td>0.14</td>\n",
       "    </tr>\n",
       "    <tr>\n",
       "      <th>3</th>\n",
       "      <td>24-98140-6666 138MB 396KB 24-98140-6667 429MB ...</td>\n",
       "      <td>24-98140-6666</td>\n",
       "      <td>138.0</td>\n",
       "      <td>396.0</td>\n",
       "      <td>0.14</td>\n",
       "    </tr>\n",
       "    <tr>\n",
       "      <th>4</th>\n",
       "      <td>24-98140-6668 75MB 783KB 24-98140-6669 1619MB ...</td>\n",
       "      <td>24-98140-6668</td>\n",
       "      <td>75.0</td>\n",
       "      <td>783.0</td>\n",
       "      <td>0.08</td>\n",
       "    </tr>\n",
       "  </tbody>\n",
       "</table>\n",
       "</div>"
      ],
      "text/plain": [
       "                                              coluna         Numero  \\\n",
       "0  24-98124-6525 7708MB 24KB 24-98125-2580 66MB 3...  24-98124-6525   \n",
       "1  24-98124-6525 7708MB 24KB 24-98125-2580 66MB 3...  24-98124-6525   \n",
       "2  24-98140-6666 138MB 396KB 24-98140-6667 429MB ...  24-98140-6666   \n",
       "3  24-98140-6666 138MB 396KB 24-98140-6667 429MB ...  24-98140-6666   \n",
       "4  24-98140-6668 75MB 783KB 24-98140-6669 1619MB ...  24-98140-6668   \n",
       "\n",
       "   ConsumoMB  ConsumoKB  ConsumoGB  \n",
       "0     7708.0       24.0       7.71  \n",
       "1     7708.0       24.0       7.71  \n",
       "2      138.0      396.0       0.14  \n",
       "3      138.0      396.0       0.14  \n",
       "4       75.0      783.0       0.08  "
      ]
     },
     "execution_count": 13,
     "metadata": {},
     "output_type": "execute_result"
    }
   ],
   "source": [
    "    numero_tel=divisao.str.get(0)\n",
    "    #print(divisao.str.get(2))\n",
    "    #numero_tel2=divisao.str.get(3)\n",
    "    qtd_MB=divisao.str.get(1)\n",
    "    qtd_KB=divisao.str.get(2)\n",
    "    #qtd_MB2=divisao.str.get(4)\n",
    "    #qtd_KB2=divisao.str.get(5)\n",
    "    dfNet1['Numero']=numero_tel\n",
    "    dfNet1['ConsumoMB']= qtd_MB.str.rstrip('MB').astype('float64')  #remove a unidade de medida e transforma em float\n",
    "    dfNet1['ConsumoKB']=qtd_KB.str.rstrip('KB').astype('float64')\n",
    "    #dfNet2['Numero']=numero_tel2\n",
    "    #dfNet2['ConsumoMB']=qtd_MB2.str.rstrip('MB').astype('float64')\n",
    "    #dfNet2['ConsumoKB']=qtd_KB2.str.rstrip('KB').astype('float64')\n",
    "    #dfNet= pd.concat([dfNet1, dfNet2]).sort_values(by='Numero')\n",
    "    dfNet1.describe()\n",
    "    #dfNet.drop(['coluna'],axis=1,inplace=True)\n",
    "    dfNet1['ConsumoGB']= round((dfNet1['ConsumoMB']+(dfNet1['ConsumoKB']/1000))/1000,2)\n",
    "    dfNet1.head()"
   ]
  },
  {
   "cell_type": "code",
   "execution_count": 14,
   "id": "12d15328",
   "metadata": {},
   "outputs": [
    {
     "data": {
      "text/html": [
       "<div>\n",
       "<style scoped>\n",
       "    .dataframe tbody tr th:only-of-type {\n",
       "        vertical-align: middle;\n",
       "    }\n",
       "\n",
       "    .dataframe tbody tr th {\n",
       "        vertical-align: top;\n",
       "    }\n",
       "\n",
       "    .dataframe thead th {\n",
       "        text-align: right;\n",
       "    }\n",
       "</style>\n",
       "<table border=\"1\" class=\"dataframe\">\n",
       "  <thead>\n",
       "    <tr style=\"text-align: right;\">\n",
       "      <th></th>\n",
       "      <th>Número</th>\n",
       "      <th>Plano</th>\n",
       "      <th>Valor</th>\n",
       "    </tr>\n",
       "  </thead>\n",
       "  <tbody>\n",
       "    <tr>\n",
       "      <th>20</th>\n",
       "      <td>31-99982-7828</td>\n",
       "      <td>SMART EMPRESAS 25GB</td>\n",
       "      <td>218,60</td>\n",
       "    </tr>\n",
       "  </tbody>\n",
       "</table>\n",
       "</div>"
      ],
      "text/plain": [
       "           Número                Plano   Valor\n",
       "20  31-99982-7828  SMART EMPRESAS 25GB  218,60"
      ]
     },
     "execution_count": 14,
     "metadata": {},
     "output_type": "execute_result"
    }
   ],
   "source": [
    "dfFatura.loc[dfFatura['Número']=='31-99982-7828']"
   ]
  },
  {
   "cell_type": "markdown",
   "id": "2f0e2f53",
   "metadata": {},
   "source": [
    "#### Nesta etapa, vamos trabalhar os parcelamentos da fatura"
   ]
  },
  {
   "cell_type": "code",
   "execution_count": 15,
   "id": "faa353bb",
   "metadata": {},
   "outputs": [
    {
     "name": "stderr",
     "output_type": "stream",
     "text": [
      "/tmp/ipykernel_4378/2750821476.py:1: ParserWarning: Falling back to the 'python' engine because the 'c' engine does not support regex separators (separators > 1 char and different from '\\s+' are interpreted as regex); you can avoid this warning by specifying engine='python'.\n",
      "  dfParc = pd.read_csv('/home/paula/Downloads/parcelamentos.txt', sep=\"\\r\\n\", header=None, names=[\"coluna\"])\n"
     ]
    },
    {
     "data": {
      "text/html": [
       "<div>\n",
       "<style scoped>\n",
       "    .dataframe tbody tr th:only-of-type {\n",
       "        vertical-align: middle;\n",
       "    }\n",
       "\n",
       "    .dataframe tbody tr th {\n",
       "        vertical-align: top;\n",
       "    }\n",
       "\n",
       "    .dataframe thead th {\n",
       "        text-align: right;\n",
       "    }\n",
       "</style>\n",
       "<table border=\"1\" class=\"dataframe\">\n",
       "  <thead>\n",
       "    <tr style=\"text-align: right;\">\n",
       "      <th></th>\n",
       "      <th>Numero</th>\n",
       "      <th>Parcela</th>\n",
       "      <th>Valor</th>\n",
       "    </tr>\n",
       "  </thead>\n",
       "  <tbody>\n",
       "    <tr>\n",
       "      <th>0</th>\n",
       "      <td>37-99984-1280</td>\n",
       "      <td>19/24</td>\n",
       "      <td>25.0</td>\n",
       "    </tr>\n",
       "    <tr>\n",
       "      <th>1</th>\n",
       "      <td>37-99987-8850</td>\n",
       "      <td>19/24</td>\n",
       "      <td>25.0</td>\n",
       "    </tr>\n",
       "    <tr>\n",
       "      <th>2</th>\n",
       "      <td>37-99955-6810</td>\n",
       "      <td>19/24</td>\n",
       "      <td>25.0</td>\n",
       "    </tr>\n",
       "    <tr>\n",
       "      <th>3</th>\n",
       "      <td>13-99678-3056</td>\n",
       "      <td>18/24</td>\n",
       "      <td>25.0</td>\n",
       "    </tr>\n",
       "  </tbody>\n",
       "</table>\n",
       "</div>"
      ],
      "text/plain": [
       "          Numero Parcela  Valor\n",
       "0  37-99984-1280   19/24   25.0\n",
       "1  37-99987-8850   19/24   25.0\n",
       "2  37-99955-6810   19/24   25.0\n",
       "3  13-99678-3056   18/24   25.0"
      ]
     },
     "execution_count": 15,
     "metadata": {},
     "output_type": "execute_result"
    }
   ],
   "source": [
    "dfParc = pd.read_csv('/home/paula/Downloads/parcelamentos.txt', sep=\"\\r\\n\", header=None, names=[\"coluna\"])\n",
    "divisao=dfParc[\"coluna\"].str.split(\" \") \n",
    "numero_tel=divisao.str.get(5)\n",
    "parcela=divisao.str.get(6)\n",
    "valor= divisao.str.get(7)\n",
    "valor=valor.str.replace(',','.')\n",
    "dfParc['Numero']=numero_tel\n",
    "dfParc['Parcela']=parcela\n",
    "dfParc['Valor']=valor.astype('float64')\n",
    "dfParc.drop(['coluna'],axis=1,inplace=True)\n",
    "dfParc.head()\n",
    "#total=dfParc['Valor'].sum()\n",
    "#print(total)"
   ]
  },
  {
   "cell_type": "code",
   "execution_count": 16,
   "id": "05fa3ddc",
   "metadata": {},
   "outputs": [
    {
     "data": {
      "text/html": [
       "<div>\n",
       "<style scoped>\n",
       "    .dataframe tbody tr th:only-of-type {\n",
       "        vertical-align: middle;\n",
       "    }\n",
       "\n",
       "    .dataframe tbody tr th {\n",
       "        vertical-align: top;\n",
       "    }\n",
       "\n",
       "    .dataframe thead th {\n",
       "        text-align: right;\n",
       "    }\n",
       "</style>\n",
       "<table border=\"1\" class=\"dataframe\">\n",
       "  <thead>\n",
       "    <tr style=\"text-align: right;\">\n",
       "      <th></th>\n",
       "      <th>Número</th>\n",
       "      <th>Plano</th>\n",
       "      <th>Valor</th>\n",
       "    </tr>\n",
       "  </thead>\n",
       "  <tbody>\n",
       "    <tr>\n",
       "      <th>count</th>\n",
       "      <td>798</td>\n",
       "      <td>798</td>\n",
       "      <td>798</td>\n",
       "    </tr>\n",
       "    <tr>\n",
       "      <th>unique</th>\n",
       "      <td>798</td>\n",
       "      <td>10</td>\n",
       "      <td>38</td>\n",
       "    </tr>\n",
       "    <tr>\n",
       "      <th>top</th>\n",
       "      <td>13-99678-3056</td>\n",
       "      <td>SMART EMPRESAS 3GB</td>\n",
       "      <td>35,32</td>\n",
       "    </tr>\n",
       "    <tr>\n",
       "      <th>freq</th>\n",
       "      <td>1</td>\n",
       "      <td>325</td>\n",
       "      <td>218</td>\n",
       "    </tr>\n",
       "  </tbody>\n",
       "</table>\n",
       "</div>"
      ],
      "text/plain": [
       "               Número               Plano  Valor\n",
       "count             798                 798    798\n",
       "unique            798                  10     38\n",
       "top     13-99678-3056  SMART EMPRESAS 3GB  35,32\n",
       "freq                1                 325    218"
      ]
     },
     "execution_count": 16,
     "metadata": {},
     "output_type": "execute_result"
    }
   ],
   "source": [
    "dfFatura.describe()\n",
    "#soma = dfFatura['Valor'].sum()+100\n",
    "#print(soma)\n",
    "\n",
    "#dfParc.head()"
   ]
  },
  {
   "cell_type": "code",
   "execution_count": 17,
   "id": "efe0ed2a",
   "metadata": {},
   "outputs": [],
   "source": [
    "with pd.ExcelWriter(r'/home/paula/Documents/VIVO.xlsx') as writer:  \n",
    "    dfFatura.to_excel(writer, sheet_name='Fatura')\n",
    "    dfParc.to_excel(writer, sheet_name='Parcelamentos')\n",
    "    dfNet1.to_excel(writer,sheet_name='Consumo Net')\n",
    "    dfPlan.to_excel(writer,sheet_name='Planos')"
   ]
  },
  {
   "cell_type": "markdown",
   "id": "349d7c6a",
   "metadata": {},
   "source": [
    "#### Ainda resta trazer os valores indevidos. Ainda a pensar sobre"
   ]
  },
  {
   "cell_type": "code",
   "execution_count": null,
   "id": "41147731",
   "metadata": {},
   "outputs": [],
   "source": []
  }
 ],
 "metadata": {
  "kernelspec": {
   "display_name": "Python 3 (ipykernel)",
   "language": "python",
   "name": "python3"
  },
  "language_info": {
   "codemirror_mode": {
    "name": "ipython",
    "version": 3
   },
   "file_extension": ".py",
   "mimetype": "text/x-python",
   "name": "python",
   "nbconvert_exporter": "python",
   "pygments_lexer": "ipython3",
   "version": "3.10.12"
  }
 },
 "nbformat": 4,
 "nbformat_minor": 5
}
