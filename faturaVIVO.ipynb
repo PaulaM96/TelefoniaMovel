{
 "cells": [
  {
   "cell_type": "markdown",
   "id": "4f4cfcc7",
   "metadata": {},
   "source": [
    "# Projeto de Telefonia Móvel\n",
    "### Este projeto tem por objetivo extrair os dados da fatura detalhada da operadora e transformar os dados em informações importantes e insights sobre a conta"
   ]
  },
  {
   "cell_type": "markdown",
   "id": "6a553925",
   "metadata": {},
   "source": [
    "##### Importando as bibliotecas necessárias"
   ]
  },
  {
   "cell_type": "code",
   "execution_count": null,
   "id": "7bd36aca",
   "metadata": {},
   "outputs": [],
   "source": [
    "!pip install pdfplumber\n",
    "!pip install pandas\n",
    "!pip install numpy"
   ]
  },
  {
   "cell_type": "code",
   "execution_count": 1,
   "id": "0440efa8",
   "metadata": {},
   "outputs": [],
   "source": [
    "import pdfplumber\n",
    "import re\n",
    "import pandas as pd\n",
    "from pathlib import Path\n",
    "import numpy as np"
   ]
  },
  {
   "cell_type": "markdown",
   "id": "d8d4f4d1",
   "metadata": {},
   "source": [
    "#### Como a conta detalhada possui muitas páginas, para este projeto foi necessário salvar um arquivo apenas com os dados de cada conta"
   ]
  },
  {
   "cell_type": "markdown",
   "id": "29cf6de6",
   "metadata": {},
   "source": [
    "#### Os dados foram importados do pdf com a biblioteca pdflumber, depois transformados em txt com o auxílio do Path\n"
   ]
  },
  {
   "cell_type": "code",
   "execution_count": 2,
   "id": "66aba965",
   "metadata": {},
   "outputs": [],
   "source": [
    "pdf_url='/home/paula/Downloads/vivotest.pdf'\n",
    "with pdfplumber.open(pdf_url) as pdf:\n",
    "    \n",
    "    first_page = pdf.pages[0]\n",
    "    pages = pdf.pages\n",
    "    \n",
    "    with Path('/home/paula/Downloads/exemplo.txt').open(mode='w') as output_file:\n",
    "        text=''\n",
    "        for i,pg in enumerate(pages):\n",
    "            text+= pages[i].extract_text()\n",
    "        output_file.write(text)\n",
    "    "
   ]
  },
  {
   "cell_type": "markdown",
   "id": "f03c9ba9",
   "metadata": {},
   "source": [
    "#### Depois de extraídos, os dados precisavam ser padronizados. Com o auxílio da biblioteca RE, foi criado uma expressão regular para localizar os textos que continham formatos diferentes, logo depois foram removidas informações irrelevantes do plano para este estudo através do método replace."
   ]
  },
  {
   "cell_type": "code",
   "execution_count": 3,
   "id": "c3c9408f",
   "metadata": {},
   "outputs": [],
   "source": [
    "busca='SMART EMPRESAS'\n",
    "dadosFatura=''\n",
    "dadosGerais=''\n",
    "texto=''\n",
    "with open('/home/paula/Downloads/exemplo.txt', 'r', encoding = 'utf-8') as arquivo:\n",
    "        \n",
    "    for linha in arquivo: \n",
    "        strug=' TE'\n",
    "        strug1='MAS'\n",
    "        if busca in linha:\n",
    "                if (re.search(r'\\s[0-9]*\\s',linha)):\n",
    "                    if strug in linha:\n",
    "                        texto= linha.replace(' TE', '')\n",
    "                    elif strug1 in linha:\n",
    "                        texto= linha.replace(' MAS', '')\n",
    "                    else:\n",
    "                        texto= linha\n",
    "                    dadosGerais+=texto\n",
    "                elif strug in linha:\n",
    "                    texto= linha.replace(' TE', '')\n",
    "                    dadosFatura+=texto\n",
    "                \n",
    "                elif strug1 in linha:\n",
    "                    texto= linha.replace(' MAS', '')\n",
    "                    dadosFatura+=texto\n",
    "                    \n",
    "                else:\n",
    "                    dadosFatura+=linha\n",
    "                \n",
    "                \n",
    "                with Path('/home/paula/Downloads/dadosGeraisPlanos.txt').open(mode='w') as output_file:\n",
    "                    output_file.write(dadosGerais)\n",
    "               \n",
    "                with Path('/home/paula/Downloads/dadosFatura.txt').open(mode='w') as output_file:\n",
    "                    output_file.write(dadosFatura)"
   ]
  },
  {
   "cell_type": "markdown",
   "id": "fc3e5a38",
   "metadata": {},
   "source": [
    "#### Os dados depois de tratados foram armazenados em arquivos diferentes para fazer a composição de dois dataframes bases relacionados à fatura."
   ]
  },
  {
   "cell_type": "code",
   "execution_count": 6,
   "id": "1fbbcc1d",
   "metadata": {},
   "outputs": [
    {
     "name": "stderr",
     "output_type": "stream",
     "text": [
      "/tmp/ipykernel_4308/3877272684.py:1: ParserWarning: Falling back to the 'python' engine because the 'c' engine does not support regex separators (separators > 1 char and different from '\\s+' are interpreted as regex); you can avoid this warning by specifying engine='python'.\n",
      "  dfFatura = pd.read_csv('/home/paula/Downloads/dadosFatura.txt', sep=\"\\r\\n\", header=None, names=[\"coluna\"]) #names=[\"number\", \"tipo\", \"c\"]\n"
     ]
    }
   ],
   "source": [
    "dfFatura = pd.read_csv('/home/paula/Downloads/dadosFatura.txt', sep=\"\\r\\n\", header=None, names=[\"coluna\"]) #names=[\"number\", \"tipo\", \"c\"] \n"
   ]
  },
  {
   "cell_type": "code",
   "execution_count": 7,
   "id": "589b53f7",
   "metadata": {},
   "outputs": [],
   "source": [
    "divisao=dfFatura[\"coluna\"].str.split(\" \")"
   ]
  },
  {
   "cell_type": "code",
   "execution_count": 8,
   "id": "a9f92710",
   "metadata": {},
   "outputs": [],
   "source": [
    "numero=divisao.str.get(0)\n",
    "desc1=divisao.str.get(1)\n",
    "desc2=divisao.str.get(2)\n",
    "plan=divisao.str.get(3)\n",
    "period1=divisao.str.get(4)\n",
    "period2=divisao.str.get(5)\n",
    "period3=divisao.str.get(6)\n",
    "price=divisao.str.get(7)"
   ]
  },
  {
   "cell_type": "code",
   "execution_count": 9,
   "id": "d434d10d",
   "metadata": {},
   "outputs": [],
   "source": [
    "dfFatura['Numero']=numero\n",
    "dfFatura['desc1']=desc1\n",
    "dfFatura['desc2']=desc2\n",
    "dfFatura['internet']=plan\n",
    "dfFatura['Descrição'] = dfFatura['desc1'] + \" \" + dfFatura['desc2'] + \" \" + dfFatura['internet']\n",
    "dfFatura['Inicio']=period1\n",
    "dfFatura['a']=period2\n",
    "dfFatura['Final']=period3\n",
    "dfFatura['Valor']=price.str.replace(',', '.') #convertendo pontuação\n",
    "dfFatura['Valor']=dfFatura['Valor'].astype('float64')"
   ]
  },
  {
   "cell_type": "code",
   "execution_count": 10,
   "id": "6a65f3fc",
   "metadata": {},
   "outputs": [
    {
     "data": {
      "text/html": [
       "<div>\n",
       "<style scoped>\n",
       "    .dataframe tbody tr th:only-of-type {\n",
       "        vertical-align: middle;\n",
       "    }\n",
       "\n",
       "    .dataframe tbody tr th {\n",
       "        vertical-align: top;\n",
       "    }\n",
       "\n",
       "    .dataframe thead th {\n",
       "        text-align: right;\n",
       "    }\n",
       "</style>\n",
       "<table border=\"1\" class=\"dataframe\">\n",
       "  <thead>\n",
       "    <tr style=\"text-align: right;\">\n",
       "      <th></th>\n",
       "      <th>Numero</th>\n",
       "      <th>Descrição</th>\n",
       "      <th>Inicio</th>\n",
       "      <th>Final</th>\n",
       "      <th>Valor</th>\n",
       "    </tr>\n",
       "  </thead>\n",
       "  <tbody>\n",
       "    <tr>\n",
       "      <th>0</th>\n",
       "      <td>24-98124-6525</td>\n",
       "      <td>SMART EMPRESAS 0.2GB</td>\n",
       "      <td>06/09/22</td>\n",
       "      <td>05/10/22</td>\n",
       "      <td>35.3</td>\n",
       "    </tr>\n",
       "    <tr>\n",
       "      <th>1</th>\n",
       "      <td>24-98125-2580</td>\n",
       "      <td>SMART EMPRESAS 0.2GB</td>\n",
       "      <td>06/09/22</td>\n",
       "      <td>05/10/22</td>\n",
       "      <td>35.3</td>\n",
       "    </tr>\n",
       "    <tr>\n",
       "      <th>2</th>\n",
       "      <td>24-98140-6666</td>\n",
       "      <td>SMART EMPRESAS 0.2GB</td>\n",
       "      <td>06/09/22</td>\n",
       "      <td>05/10/22</td>\n",
       "      <td>35.3</td>\n",
       "    </tr>\n",
       "    <tr>\n",
       "      <th>3</th>\n",
       "      <td>24-98140-6667</td>\n",
       "      <td>SMART EMPRESAS 0.2GB</td>\n",
       "      <td>06/09/22</td>\n",
       "      <td>05/10/22</td>\n",
       "      <td>35.3</td>\n",
       "    </tr>\n",
       "    <tr>\n",
       "      <th>4</th>\n",
       "      <td>24-98140-6668</td>\n",
       "      <td>SMART EMPRESAS 0.2GB</td>\n",
       "      <td>06/09/22</td>\n",
       "      <td>05/10/22</td>\n",
       "      <td>35.3</td>\n",
       "    </tr>\n",
       "  </tbody>\n",
       "</table>\n",
       "</div>"
      ],
      "text/plain": [
       "          Numero             Descrição    Inicio     Final  Valor\n",
       "0  24-98124-6525  SMART EMPRESAS 0.2GB  06/09/22  05/10/22   35.3\n",
       "1  24-98125-2580  SMART EMPRESAS 0.2GB  06/09/22  05/10/22   35.3\n",
       "2  24-98140-6666  SMART EMPRESAS 0.2GB  06/09/22  05/10/22   35.3\n",
       "3  24-98140-6667  SMART EMPRESAS 0.2GB  06/09/22  05/10/22   35.3\n",
       "4  24-98140-6668  SMART EMPRESAS 0.2GB  06/09/22  05/10/22   35.3"
      ]
     },
     "execution_count": 10,
     "metadata": {},
     "output_type": "execute_result"
    }
   ],
   "source": [
    "dfFatura.drop(['coluna'],axis=1,inplace=True)\n",
    "dfFatura.drop(['a'],axis=1,inplace=True)\n",
    "dfFatura.drop(['desc1'],axis=1,inplace=True)\n",
    "dfFatura.drop(['desc2'],axis=1,inplace=True)\n",
    "dfFatura.drop(['internet'],axis=1,inplace=True)\n",
    "dfFatura.head()"
   ]
  },
  {
   "cell_type": "code",
   "execution_count": 12,
   "id": "1b1370bc",
   "metadata": {},
   "outputs": [
    {
     "name": "stderr",
     "output_type": "stream",
     "text": [
      "/tmp/ipykernel_4308/3799240282.py:1: ParserWarning: Falling back to the 'python' engine because the 'c' engine does not support regex separators (separators > 1 char and different from '\\s+' are interpreted as regex); you can avoid this warning by specifying engine='python'.\n",
      "  dfPlan = pd.read_csv('/home/paula/Downloads/dadosGeraisPlanos.txt', sep=\"\\r\\n\", header=None, names=[\"dados\"]) #names=[\"number\", \"tipo\", \"c\"]\n"
     ]
    }
   ],
   "source": [
    "dfPlan = pd.read_csv('/home/paula/Downloads/dadosGeraisPlanos.txt', sep=\"\\r\\n\", header=None, names=[\"dados\"]) #names=[\"number\", \"tipo\", \"c\"]\n",
    "divisao=dfPlan[\"dados\"].str.split(\" \") "
   ]
  },
  {
   "cell_type": "code",
   "execution_count": 13,
   "id": "6637bf6d",
   "metadata": {},
   "outputs": [],
   "source": [
    "desc=divisao.str.get(0)\n",
    "desc0=divisao.str.get(1)\n",
    "internet=divisao.str.get(2)\n",
    "quantidade=divisao.str.get(3)"
   ]
  },
  {
   "cell_type": "code",
   "execution_count": 15,
   "id": "6c554fa5",
   "metadata": {},
   "outputs": [
    {
     "data": {
      "text/html": [
       "<div>\n",
       "<style scoped>\n",
       "    .dataframe tbody tr th:only-of-type {\n",
       "        vertical-align: middle;\n",
       "    }\n",
       "\n",
       "    .dataframe tbody tr th {\n",
       "        vertical-align: top;\n",
       "    }\n",
       "\n",
       "    .dataframe thead th {\n",
       "        text-align: right;\n",
       "    }\n",
       "</style>\n",
       "<table border=\"1\" class=\"dataframe\">\n",
       "  <thead>\n",
       "    <tr style=\"text-align: right;\">\n",
       "      <th></th>\n",
       "      <th>dados</th>\n",
       "      <th>desc1</th>\n",
       "      <th>desc2</th>\n",
       "      <th>Descrição</th>\n",
       "      <th>Internet</th>\n",
       "      <th>Quantidade</th>\n",
       "    </tr>\n",
       "  </thead>\n",
       "  <tbody>\n",
       "    <tr>\n",
       "      <th>0</th>\n",
       "      <td>SMART EMPRESAS 3GB 181</td>\n",
       "      <td>SMART</td>\n",
       "      <td>EMPRESAS</td>\n",
       "      <td>SMART EMPRESAS</td>\n",
       "      <td>3GB</td>\n",
       "      <td>181</td>\n",
       "    </tr>\n",
       "    <tr>\n",
       "      <th>1</th>\n",
       "      <td>SMART EMPRESAS 1GB 105</td>\n",
       "      <td>SMART</td>\n",
       "      <td>EMPRESAS</td>\n",
       "      <td>SMART EMPRESAS</td>\n",
       "      <td>1GB</td>\n",
       "      <td>105</td>\n",
       "    </tr>\n",
       "    <tr>\n",
       "      <th>2</th>\n",
       "      <td>SMART EMPRESAS 1GB 50</td>\n",
       "      <td>SMART</td>\n",
       "      <td>EMPRESAS</td>\n",
       "      <td>SMART EMPRESAS</td>\n",
       "      <td>1GB</td>\n",
       "      <td>50</td>\n",
       "    </tr>\n",
       "    <tr>\n",
       "      <th>3</th>\n",
       "      <td>SMART EMPRESAS 25GB 32</td>\n",
       "      <td>SMART</td>\n",
       "      <td>EMPRESAS</td>\n",
       "      <td>SMART EMPRESAS</td>\n",
       "      <td>25GB</td>\n",
       "      <td>32</td>\n",
       "    </tr>\n",
       "    <tr>\n",
       "      <th>4</th>\n",
       "      <td>SMART EMPRESAS 2GB 25</td>\n",
       "      <td>SMART</td>\n",
       "      <td>EMPRESAS</td>\n",
       "      <td>SMART EMPRESAS</td>\n",
       "      <td>2GB</td>\n",
       "      <td>25</td>\n",
       "    </tr>\n",
       "  </tbody>\n",
       "</table>\n",
       "</div>"
      ],
      "text/plain": [
       "                    dados  desc1     desc2       Descrição Internet  \\\n",
       "0  SMART EMPRESAS 3GB 181  SMART  EMPRESAS  SMART EMPRESAS      3GB   \n",
       "1  SMART EMPRESAS 1GB 105  SMART  EMPRESAS  SMART EMPRESAS      1GB   \n",
       "2   SMART EMPRESAS 1GB 50  SMART  EMPRESAS  SMART EMPRESAS      1GB   \n",
       "3  SMART EMPRESAS 25GB 32  SMART  EMPRESAS  SMART EMPRESAS     25GB   \n",
       "4   SMART EMPRESAS 2GB 25  SMART  EMPRESAS  SMART EMPRESAS      2GB   \n",
       "\n",
       "   Quantidade  \n",
       "0         181  \n",
       "1         105  \n",
       "2          50  \n",
       "3          32  \n",
       "4          25  "
      ]
     },
     "execution_count": 15,
     "metadata": {},
     "output_type": "execute_result"
    }
   ],
   "source": [
    "dfPlan['desc1']=desc\n",
    "dfPlan['desc2']=desc0\n",
    "dfPlan['Descrição'] = dfPlan['desc1'] + \" \" + dfPlan['desc2']\n",
    "dfPlan['Internet']=internet\n",
    "dfPlan['Quantidade']=quantidade\n",
    "dfPlan['Quantidade']=dfPlan['Quantidade'].astype('int32')\n",
    "dfPlan.head()"
   ]
  },
  {
   "cell_type": "code",
   "execution_count": 16,
   "id": "6df049d9",
   "metadata": {},
   "outputs": [
    {
     "data": {
      "text/html": [
       "<div>\n",
       "<style scoped>\n",
       "    .dataframe tbody tr th:only-of-type {\n",
       "        vertical-align: middle;\n",
       "    }\n",
       "\n",
       "    .dataframe tbody tr th {\n",
       "        vertical-align: top;\n",
       "    }\n",
       "\n",
       "    .dataframe thead th {\n",
       "        text-align: right;\n",
       "    }\n",
       "</style>\n",
       "<table border=\"1\" class=\"dataframe\">\n",
       "  <thead>\n",
       "    <tr style=\"text-align: right;\">\n",
       "      <th></th>\n",
       "      <th>Descrição</th>\n",
       "      <th>Internet</th>\n",
       "      <th>Quantidade</th>\n",
       "    </tr>\n",
       "  </thead>\n",
       "  <tbody>\n",
       "    <tr>\n",
       "      <th>0</th>\n",
       "      <td>SMART EMPRESAS</td>\n",
       "      <td>3GB</td>\n",
       "      <td>181</td>\n",
       "    </tr>\n",
       "    <tr>\n",
       "      <th>1</th>\n",
       "      <td>SMART EMPRESAS</td>\n",
       "      <td>1GB</td>\n",
       "      <td>105</td>\n",
       "    </tr>\n",
       "    <tr>\n",
       "      <th>2</th>\n",
       "      <td>SMART EMPRESAS</td>\n",
       "      <td>1GB</td>\n",
       "      <td>50</td>\n",
       "    </tr>\n",
       "    <tr>\n",
       "      <th>3</th>\n",
       "      <td>SMART EMPRESAS</td>\n",
       "      <td>25GB</td>\n",
       "      <td>32</td>\n",
       "    </tr>\n",
       "    <tr>\n",
       "      <th>4</th>\n",
       "      <td>SMART EMPRESAS</td>\n",
       "      <td>2GB</td>\n",
       "      <td>25</td>\n",
       "    </tr>\n",
       "  </tbody>\n",
       "</table>\n",
       "</div>"
      ],
      "text/plain": [
       "        Descrição Internet  Quantidade\n",
       "0  SMART EMPRESAS      3GB         181\n",
       "1  SMART EMPRESAS      1GB         105\n",
       "2  SMART EMPRESAS      1GB          50\n",
       "3  SMART EMPRESAS     25GB          32\n",
       "4  SMART EMPRESAS      2GB          25"
      ]
     },
     "execution_count": 16,
     "metadata": {},
     "output_type": "execute_result"
    }
   ],
   "source": [
    "dfPlan.drop(['dados'],axis=1,inplace=True)\n",
    "dfPlan.drop(['desc1'],axis=1,inplace=True)\n",
    "dfPlan.drop(['desc2'],axis=1,inplace=True)\n",
    "dfPlan.head()"
   ]
  },
  {
   "cell_type": "code",
   "execution_count": null,
   "id": "76ee9c6f",
   "metadata": {},
   "outputs": [],
   "source": []
  }
 ],
 "metadata": {
  "kernelspec": {
   "display_name": "Python 3 (ipykernel)",
   "language": "python",
   "name": "python3"
  },
  "language_info": {
   "codemirror_mode": {
    "name": "ipython",
    "version": 3
   },
   "file_extension": ".py",
   "mimetype": "text/x-python",
   "name": "python",
   "nbconvert_exporter": "python",
   "pygments_lexer": "ipython3",
   "version": "3.8.10"
  }
 },
 "nbformat": 4,
 "nbformat_minor": 5
}
